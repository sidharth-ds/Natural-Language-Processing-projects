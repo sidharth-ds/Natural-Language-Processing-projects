{
  "nbformat": 4,
  "nbformat_minor": 0,
  "metadata": {
    "colab": {
      "name": "chatbot hotel management.ipynb",
      "provenance": [],
      "collapsed_sections": [],
      "authorship_tag": "ABX9TyMA/B5EjnYWUv7Q7Fmo4j49",
      "include_colab_link": true
    },
    "kernelspec": {
      "name": "python3",
      "display_name": "Python 3"
    },
    "language_info": {
      "name": "python"
    }
  },
  "cells": [
    {
      "cell_type": "markdown",
      "metadata": {
        "id": "view-in-github",
        "colab_type": "text"
      },
      "source": [
        "<a href=\"https://colab.research.google.com/github/sidharth-ds/Natural-Language-Processing-projects/blob/main/chatbot_hotel_management%20task_4.ipynb\" target=\"_parent\"><img src=\"https://colab.research.google.com/assets/colab-badge.svg\" alt=\"Open In Colab\"/></a>"
      ]
    },
    {
      "cell_type": "code",
      "source": [
        "# importing necessary package\n",
        "\n",
        "from nltk.chat.util import Chat, reflections"
      ],
      "metadata": {
        "id": "81m3FUu-H6P8"
      },
      "execution_count": 1,
      "outputs": []
    },
    {
      "cell_type": "code",
      "source": [
        "# defining Pairs (list of patterns and responses):\n",
        "\n",
        "pairs = [\n",
        "    [\n",
        "        r\"(.*)my name is (.*)\",\n",
        "        [\"Hello %2, How are you today ?\",]\n",
        "    ],\n",
        "    [\n",
        "        r\"(.*)help(.*) \",\n",
        "        [\"I can help you \",]\n",
        "    ],\n",
        "     [\n",
        "        r\"(.*) your name ?\",\n",
        "        [\"My name is thecleverprogrammer, but you can just call me robot and I'm a chatbot .\",]\n",
        "    ],\n",
        "    [\n",
        "        r\"how are you (.*) ?\",\n",
        "        [\"I'm doing very well\", \"i am great !\"]\n",
        "    ],\n",
        "    [\n",
        "        r\"sorry (.*)\",\n",
        "        [\"Its alright\",\"Its OK, never mind that\",]\n",
        "    ],\n",
        "    [\n",
        "        r\"(hi|hey|hello|hola|holla)(.*)\",\n",
        "        [\"Hello\", \"Hey there\",]\n",
        "    ],\n",
        "  \n",
        "    [\n",
        "        r\"quit\",\n",
        "        [\"Bye for now. See you soon :) \",\"It was nice talking to you. See you soon :)\"]\n",
        "    ],\n",
        "    [\n",
        "        r\"(.*)(help|book)(.*)\",\n",
        "        ['May i know you Name, Mobile Number, Address, ID proof, and Room Type and date of arrival and departure date.']\n",
        "    ],\n",
        "    [\n",
        "        r\"(.*)(1|2|3|4|5|6|7)(.*)\",\n",
        "        ['thanks for the information. You will be allocated room']\n",
        "    ],\n",
        "    [\n",
        "        r\"(.*)(available|availability|saturday|sunday)(.*)\",\n",
        "        ['saturday and sunday, rooms are not available']\n",
        "    ],\n",
        "    [\n",
        "        r\"(.*)(AC|non AC|room)(.*)\",\n",
        "        ['AC rooms are not available']\n",
        "    ],\n",
        "    [\n",
        "        r\"(.*)\",\n",
        "        ['okay..']\n",
        "    ],\n",
        "    \n",
        "]"
      ],
      "metadata": {
        "id": "DzEZmqDxKWr6"
      },
      "execution_count": 2,
      "outputs": []
    },
    {
      "cell_type": "code",
      "source": [
        "# default message at the start of chat\n",
        "print(\"Hi, I'm chatbot and I like to chat \\n\\nPlease type lowercase English language to start a conversation. \\n\\nType quit to leave\\n\\n \")\n",
        "\n",
        "# Create Chat Bot\n",
        "chat = Chat(pairs, reflections)\n",
        "\n",
        "# Start conversation\n",
        "chat.converse()"
      ],
      "metadata": {
        "id": "Bj_eSj3CKWuP",
        "colab": {
          "base_uri": "https://localhost:8080/"
        },
        "outputId": "b59a955d-786e-4606-8c0e-e53e1ae14bbf"
      },
      "execution_count": 8,
      "outputs": [
        {
          "output_type": "stream",
          "name": "stdout",
          "text": [
            "Hi, I'm chatbot and I like to chat \n",
            "\n",
            "Please type lowercase English language to start a conversation. \n",
            "\n",
            "Type quit to leave\n",
            "\n",
            " \n",
            ">hi\n",
            "Hey there\n",
            ">i need to book a room\n",
            "May i know you Name, Mobile Number, Address, ID proof, and Room Type and date of arrival and departure date.\n",
            ">sidharth, 9874563215, tamilnadu\n",
            "thanks for the information. You will be allocated room\n",
            ">i need the rooms on sunday\n",
            "saturday and sunday, rooms are not available\n",
            ">thank you\n",
            "okay..\n",
            ">quit\n",
            "Bye for now. See you soon :) \n"
          ]
        }
      ]
    }
  ]
}